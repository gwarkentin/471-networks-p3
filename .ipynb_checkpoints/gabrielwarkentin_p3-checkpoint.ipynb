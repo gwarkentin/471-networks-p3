{
 "cells": [
  {
   "cell_type": "markdown",
   "id": "9ee234d0",
   "metadata": {},
   "source": [
    "# CPSC 471 - Project 3\n",
    "\n",
    "### Gabriel Warkentin"
   ]
  },
  {
   "cell_type": "markdown",
   "id": "699a5de0",
   "metadata": {},
   "source": [
    "### Part 1: UDP Transport Layer Protocol \n",
    "\n",
    "\n",
    "I ran the UDP client-server code from project 2.\n",
    "\n",
    " 1. Run UDPServer.py in one terminal\n",
    " 2. After the server is up, run UDPClient.py in a second terminal."
   ]
  },
  {
   "cell_type": "code",
   "execution_count": null,
   "id": "970dcb02",
   "metadata": {},
   "outputs": [],
   "source": [
    "# UDPServer.py\n",
    "\n",
    "from socket import *\n",
    "hostIP = 'localhost'\n",
    "serverPort = 12000\n",
    "serverSocket = socket(AF_INET, SOCK_DGRAM)\n",
    "serverSocket.bind((hostIP, serverPort))\n",
    "print(\"The server is ready to receive\")\n",
    "while True:\n",
    "    message, clientAddress = serverSocket.recvfrom(2048)\n",
    "    modifiedMessage = message.decode().upper()\n",
    "    serverSocket.sendto(modifiedMessage.encode(), clientAddress)\n"
   ]
  },
  {
   "cell_type": "code",
   "execution_count": null,
   "id": "7b4d8100",
   "metadata": {},
   "outputs": [],
   "source": [
    "# UDPClient.py\n",
    "\n",
    "from socket import *\n",
    "serverName = 'localhost'\n",
    "serverPort = 12000\n",
    "clientSocket = socket(AF_INET, SOCK_DGRAM)\n",
    "message = input('Input lowercase sentence:')\n",
    "clientSocket.sendto(message.encode(),(serverName, serverPort))\n",
    "receivedMessage, serverAddress = clientSocket.recvfrom(2048)\n",
    "print('From Server: ', receivedMessage.decode())\n",
    "clientSocket.close()"
   ]
  },
  {
   "cell_type": "markdown",
   "id": "4628236b",
   "metadata": {},
   "source": [
    "##### 1. Select one UDP packet from your trace. From this packet, determine how many fields there are in the UDP header. Name these fields. \n",
    "\n",
    "<img src=\"./p3_1_headers.png\">\n",
    "\n",
    " - Source Port\n",
    " - Destination Port\n",
    " - Length\n",
    " - Checksum"
   ]
  },
  {
   "cell_type": "markdown",
   "id": "2370834b",
   "metadata": {},
   "source": [
    "##### 2. By consulting the displayed information in Wireshark’s packet content field for this packet, determine the length (in bytes) of each of the UDP header fields.\n",
    "\n",
    "<img src=\"./p3_1_bytes.png\">\n",
    "\n",
    " - Source Port - 2 bytes \n",
    " - Destination Port - 2 bytes\n",
    " - Length - 2 bytes\n",
    " - Checksum - 2 bytes\n",
    " \n"
   ]
  },
  {
   "cell_type": "markdown",
   "id": "53e9a9c0",
   "metadata": {},
   "source": [
    "##### 3. The value in the Length field is the length of what? (Consult the textbook for this answer). Verify your claim with your captured UDP packet. Show your work details. \n",
    "\n",
    "The length 29 bytes is the length of the UDP header+data, i.e., the 8 bytes of headers + the 21 byte payload = 20 bytes"
   ]
  },
  {
   "cell_type": "markdown",
   "id": "0f44c9c0",
   "metadata": {},
   "source": [
    "##### 4. What is the maximum number of bytes that can be included in a UDP payload? (Hint: the answer to this question can be determined by your answer to 2. above) \n",
    "\n",
    "The length is a 16 bit unsigned integer, so\n",
    "2^16 - 1 = 65535 is the largest length value in that field.\n",
    "\n",
    "8 bytes are taken for the headers, so 65535 - 8 = 65527\n",
    "\n",
    "The maximum payload size is 65527 bytes\n"
   ]
  },
  {
   "cell_type": "markdown",
   "id": "2c2244d7",
   "metadata": {},
   "source": [
    "###### 5. What is the largest possible source port number? \n",
    "\n",
    "The length is a 16 bit unsigned integer, so\n",
    "2^16 - 1 = 65535 is the largest possible port number."
   ]
  },
  {
   "cell_type": "markdown",
   "id": "880bc661",
   "metadata": {},
   "source": [
    "##### 6. What is the protocol number for UDP? Give your answer in both hexadecimal and decimal notation. \n",
    "\n",
    "UDP protocol is 17, represented as 11 in hexidecimal. It is shown in the IP section as\n",
    "\n",
    "<img src=\"./p3_1_protocol.png\">"
   ]
  },
  {
   "cell_type": "markdown",
   "id": "600f3e10",
   "metadata": {},
   "source": [
    "##### 7. Examine a pair of UDP packets in which your host sends the first UDP packet and the second UDP packet is a reply to this first UDP packet. (Hint: for a second packet to be sent in response to a first packet, the sender of the first packet should be the destination of the second packet). Describe the relationship between the port numbers in the two packets. \n",
    "\n",
    "The first sender (the UDPClient app) sends a packet with:\n",
    "Source Port: 56021\n",
    "Destination Port: 12000\n",
    "\n",
    "The second sender (the UDPServer app) sends a packet with:\n",
    "Source Port: 12000\n",
    "Destination Port: 56021\n",
    "\n",
    "They are swapped"
   ]
  },
  {
   "cell_type": "markdown",
   "id": "8a353146",
   "metadata": {},
   "source": [
    " ### Part 2 – TCP Transport Layer Protocol\n",
    " \n",
    "Filtered wireshark capture to tcp\n",
    "\n",
    "Download http://gaia.cs.umass.edu/wireshark-labs/alice.txt\n",
    "\n",
    "Upload to http://gaia.cs.umass.edu/wireshark-labs/TCP-wireshark-file1.html"
   ]
  },
  {
   "cell_type": "markdown",
   "id": "cdc2d96a",
   "metadata": {},
   "source": [
    "##### 1. From the packet that contains the initial three-way handshake SYN message, what is the IP address and TCP port number used by the client computer (source) that is transferring the file to gaia.cs.umass.edu?\n",
    "\n",
    "<img src=\"./p3_2_syn.png\" />\n",
    "\n",
    "- Source IP: 192.168.1.2\n",
    "- TCP Port being used: 56432\n"
   ]
  },
  {
   "cell_type": "markdown",
   "id": "41fd1a03",
   "metadata": {},
   "source": [
    "##### 2. What is the IP address of gaia.cs.umass.edu? On what port number is it sending and receiving TCP segments for this connection? \n",
    "\n",
    "<img src=\"./p3_2_synack.png\" />\n",
    "\n",
    "- their IP: 128.119.245.12\n",
    "- their TCP Port being used: 80\n"
   ]
  },
  {
   "cell_type": "markdown",
   "id": "f4ab0c2e",
   "metadata": {},
   "source": [
    "##### 3. What is the sequence number of the TCP SYN segment that is used to initiate the TCP connection between the client computer and gaia.cs.umass.edu? \n",
    "\n",
    "\n",
    "<img src=\"./p3_2_sequence.png\" />\n",
    "\n",
    "The raw sequence number is 1453556888, or hex (56 a3 84 98)\n",
    "\n",
    "This is treated as 0 relative for convenience\n",
    "\n",
    "##### What is it in the segment that identifies the segment as a SYN segment? \n",
    "\n",
    "<img src=\"./p3_2_identify.png\" />\n",
    "\n",
    "The flags field has the Syn bit set"
   ]
  },
  {
   "cell_type": "markdown",
   "id": "711dca23",
   "metadata": {},
   "source": [
    "##### 4. What is the sequence number of the SYNACK segment sent by gaia.cs.umass.edu to the client computer in reply to the SYN? What is the value of the Acknowledgement field in the SYNACK segment? How did gaia.cs.umass.edu determine that value? \n",
    "\n",
    "<img src=\"./p3_2_synack_sequence.png\" />\n",
    "\n",
    "The raw sequence number is 2537360642, or hex (97 3d 0d 02)\n",
    "\n",
    "The acknoledgement number is 1453556889 \n",
    "\n",
    "It added 1 relative to the Syn segment's raw sequence number\n",
    "\n",
    "##### What is it in the segment that identifies the segment as a SYNACK segment? \n",
    "\n",
    "<img src=\"./p3_2_synack_flag.png\" />\n",
    "\n",
    "The flags field has the Syn and Ack bits set"
   ]
  },
  {
   "attachments": {},
   "cell_type": "markdown",
   "id": "5a8246ef",
   "metadata": {},
   "source": [
    "##### 5. What is the sequence number of the TCP segment containing the HTTP POST command? Note that to find the POST command, you’ll need to dig into the packet content field at the bottom of the Wireshark window, looking for a segment with a “POST” within its DATA field. \n",
    "\n",
    "<img src=\"./p3_2_postdata.png\" />\n",
    "\n",
    "Identified via data, plus different flags than other packets and early on\n",
    "\n",
    "<img src=\"./p3_2_post.png\" />\n",
    "\n",
    "Sequence Number: 1453556889. This is the same as the original acknowledgment number in the SynAck, which is the original SYN sequence number + 1\n"
   ]
  },
  {
   "cell_type": "code",
   "execution_count": null,
   "id": "69580457",
   "metadata": {},
   "outputs": [],
   "source": []
  },
  {
   "cell_type": "code",
   "execution_count": null,
   "id": "622d8116",
   "metadata": {},
   "outputs": [],
   "source": []
  }
 ],
 "metadata": {
  "kernelspec": {
   "display_name": "Python 3 (ipykernel)",
   "language": "python",
   "name": "python3"
  },
  "language_info": {
   "codemirror_mode": {
    "name": "ipython",
    "version": 3
   },
   "file_extension": ".py",
   "mimetype": "text/x-python",
   "name": "python",
   "nbconvert_exporter": "python",
   "pygments_lexer": "ipython3",
   "version": "3.9.13"
  }
 },
 "nbformat": 4,
 "nbformat_minor": 5
}
